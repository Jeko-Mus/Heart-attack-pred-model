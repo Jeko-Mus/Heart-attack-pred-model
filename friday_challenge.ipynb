{
 "cells": [
  {
   "cell_type": "code",
   "execution_count": 2,
   "metadata": {},
   "outputs": [],
   "source": [
    "import pandas as pd\n",
    "import numpy as np \n",
    "from sklearn.model_selection import train_test_split\n",
    "\n",
    "from sklearn import pipeline      # Pipeline\n",
    "from sklearn import preprocessing # OrdinalEncoder, LabelEncoder\n",
    "from sklearn import impute\n",
    "from sklearn import compose\n",
    "from sklearn import model_selection # train_test_split\n",
    "from sklearn import metrics         # accuracy_score, balanced_accuracy_score, plot_confusion_matrix\n",
    "from sklearn import set_config\n",
    "\n",
    "from sklearn.tree          import DecisionTreeClassifier\n",
    "from sklearn.ensemble      import RandomForestClassifier\n",
    "from sklearn.ensemble      import ExtraTreesClassifier\n",
    "from sklearn.ensemble      import AdaBoostClassifier\n",
    "from sklearn.ensemble      import GradientBoostingClassifier\n",
    "from xgboost               import XGBClassifier\n",
    "from lightgbm              import LGBMClassifier\n",
    "from catboost              import CatBoostClassifier\n",
    "from sklearn.linear_model  import LogisticRegression"
   ]
  },
  {
   "cell_type": "code",
   "execution_count": 13,
   "metadata": {},
   "outputs": [
    {
     "data": {
      "text/html": [
       "<div>\n",
       "<style scoped>\n",
       "    .dataframe tbody tr th:only-of-type {\n",
       "        vertical-align: middle;\n",
       "    }\n",
       "\n",
       "    .dataframe tbody tr th {\n",
       "        vertical-align: top;\n",
       "    }\n",
       "\n",
       "    .dataframe thead th {\n",
       "        text-align: right;\n",
       "    }\n",
       "</style>\n",
       "<table border=\"1\" class=\"dataframe\">\n",
       "  <thead>\n",
       "    <tr style=\"text-align: right;\">\n",
       "      <th></th>\n",
       "      <th>age</th>\n",
       "      <th>sex</th>\n",
       "      <th>cp</th>\n",
       "      <th>trtbps</th>\n",
       "      <th>chol</th>\n",
       "      <th>fbs</th>\n",
       "      <th>restecg</th>\n",
       "      <th>thalachh</th>\n",
       "      <th>exng</th>\n",
       "      <th>oldpeak</th>\n",
       "      <th>slp</th>\n",
       "      <th>caa</th>\n",
       "      <th>thall</th>\n",
       "      <th>output</th>\n",
       "    </tr>\n",
       "  </thead>\n",
       "  <tbody>\n",
       "    <tr>\n",
       "      <th>0</th>\n",
       "      <td>63</td>\n",
       "      <td>1</td>\n",
       "      <td>3</td>\n",
       "      <td>145</td>\n",
       "      <td>233</td>\n",
       "      <td>1</td>\n",
       "      <td>0</td>\n",
       "      <td>150</td>\n",
       "      <td>0</td>\n",
       "      <td>2.3</td>\n",
       "      <td>0</td>\n",
       "      <td>0</td>\n",
       "      <td>1</td>\n",
       "      <td>1</td>\n",
       "    </tr>\n",
       "    <tr>\n",
       "      <th>1</th>\n",
       "      <td>37</td>\n",
       "      <td>1</td>\n",
       "      <td>2</td>\n",
       "      <td>130</td>\n",
       "      <td>250</td>\n",
       "      <td>0</td>\n",
       "      <td>1</td>\n",
       "      <td>187</td>\n",
       "      <td>0</td>\n",
       "      <td>3.5</td>\n",
       "      <td>0</td>\n",
       "      <td>0</td>\n",
       "      <td>2</td>\n",
       "      <td>1</td>\n",
       "    </tr>\n",
       "  </tbody>\n",
       "</table>\n",
       "</div>"
      ],
      "text/plain": [
       "   age  sex  cp  trtbps  chol  fbs  restecg  thalachh  exng  oldpeak  slp  \\\n",
       "0   63    1   3     145   233    1        0       150     0      2.3    0   \n",
       "1   37    1   2     130   250    0        1       187     0      3.5    0   \n",
       "\n",
       "   caa  thall  output  \n",
       "0    0      1       1  \n",
       "1    0      2       1  "
      ]
     },
     "execution_count": 13,
     "metadata": {},
     "output_type": "execute_result"
    }
   ],
   "source": [
    "data_heart = pd.read_csv('heart.csv')\n",
    "data_heart.head(2)"
   ]
  },
  {
   "cell_type": "code",
   "execution_count": 14,
   "metadata": {},
   "outputs": [
    {
     "data": {
      "text/plain": [
       "(3585, 1)"
      ]
     },
     "execution_count": 14,
     "metadata": {},
     "output_type": "execute_result"
    }
   ],
   "source": [
    "data_saturation = pd.read_csv('o2Saturation.csv')\n",
    "data_saturation.shape"
   ]
  },
  {
   "cell_type": "code",
   "execution_count": 15,
   "metadata": {},
   "outputs": [],
   "source": [
    "x_variables = ['age', 'sex', 'cp',\t'trtbps',\t'chol',\t'fbs', 'restecg',\t'thalachh',\t'exng',\t'oldpeak',\t'slp',\t'caa',\t'thall']\n",
    "y_variable  = 'output'"
   ]
  },
  {
   "cell_type": "code",
   "execution_count": 16,
   "metadata": {},
   "outputs": [
    {
     "data": {
      "text/plain": [
       "array([1, 0], dtype=int64)"
      ]
     },
     "execution_count": 16,
     "metadata": {},
     "output_type": "execute_result"
    }
   ],
   "source": [
    "X = data_heart[x_variables]\n",
    "y = data_heart[y_variable]\n",
    "y.unique()"
   ]
  },
  {
   "cell_type": "code",
   "execution_count": 17,
   "metadata": {},
   "outputs": [],
   "source": [
    "X_train, X_test, y_train, y_test = train_test_split(X, y, random_state=0)\n",
    "# print(X_train.shape, X_test.shape, y_train.shape, y_test.shape)"
   ]
  },
  {
   "cell_type": "code",
   "execution_count": 9,
   "metadata": {},
   "outputs": [],
   "source": [
    "\n",
    "# params_decision_tree = { 'kernel' : ['linear', 'rbf'],        'C': np.arange(1, 10, 1) }\n",
    "\n"
   ]
  },
  {
   "cell_type": "code",
   "execution_count": 18,
   "metadata": {},
   "outputs": [],
   "source": [
    "from sklearn.model_selection import GridSearchCV\n",
    "from sklearn.svm import SVC\n",
    "\n",
    "param_DecisionTree  = {'max_depth'   : [3, 4, 5, 6, 7, 8, 9]}\n",
    "param_ExtraTree     = {'n_estimators': [0.1, 1, 10, 100, 100, 1000],     'max_depth'     : [3, 4, 5, 6, 7, 8, 9]}\n",
    "param_RandomForest  = {'n_estimators': [0.1, 1, 10, 100, 100, 1000],     'max_depth'     : [3, 4, 5, 6, 7, 8, 9]}\n",
    "param_AdaBoost      = {'n_estimators': [0.1, 1, 10, 100, 100, 1000],     'learning_rate' : [0.01, 0.1, 1, 10, 100, 1000]}\n",
    "param_SklGBM        = {'n_estimators': [0.1, 1, 10, 100, 100, 1000],     'learning_rate' : [0.01, 0.1, 1, 10, 100, 1000]}\n",
    "param_XGBoost       = {'booster'     : ['gbtree', 'gblinear'],           'eta'           : [0.01, 0.1, 1, 10, 100, 1000] }\n",
    "param_LightGBM      = {'n_estimators': [0.01, 0.1, 1, 10, 100, 1000],    'learning_rate' : [0.01, 0.1, 1, 10, 100, 1000]}\n",
    "param_LogisticRegr  = {'C'           : [0.01, 0.1, 1, 10, 100, 1000],    'max_iter'      : [10, 50, 100, 150, 200, 1000]}\n",
    "param_SVC           = {'kernel'      : ['linear', 'rbf'],                  'C'           : [0.01, 0.1, 1, 10, 100, 1000]}      # 'gamma'         : [0.001, 0.01, 0.1, 1, 10, 100, 1000] ,      \n",
    "\n",
    "\n",
    "grid_search_DecisionTree      = GridSearchCV(DecisionTreeClassifier(), param_DecisionTree, cv=5)\n",
    "grid_search_ExtraTree         = GridSearchCV(ExtraTreesClassifier(), param_ExtraTree, cv=5)\n",
    "grid_search_RandomForest      = GridSearchCV(RandomForestClassifier(), param_RandomForest, cv=5)\n",
    "grid_search_AdaBoost          = GridSearchCV(AdaBoostClassifier(), param_AdaBoost, cv=5)\n",
    "grid_search_SklGBM            = GridSearchCV(GradientBoostingClassifier(), param_SklGBM, cv=5)\n",
    "grid_search_XGBoost           = GridSearchCV(XGBClassifier(), param_XGBoost, cv=5)\n",
    "grid_search_LightGBM          = GridSearchCV(LGBMClassifier(), param_LightGBM, cv=5)\n",
    "grid_search_LogisticRegr      = GridSearchCV(LogisticRegression(), param_LogisticRegr, cv=5)\n",
    "grid_search_SVC               = GridSearchCV(SVC(), param_SVC, cv=5)\n",
    "\n"
   ]
  },
  {
   "cell_type": "code",
   "execution_count": null,
   "metadata": {},
   "outputs": [],
   "source": [
    "grid_search_DecisionTree.fit(X_train, y_train)\n",
    "grid_search_ExtraTree.fit(X_train, y_train)\n",
    "grid_search_RandomForest.fit(X_train, y_train)\n",
    "grid_search_AdaBoost.fit(X_train, y_train)\n",
    "grid_search_SklGBM.fit(X_train, y_train)\n",
    "grid_search_XGBoost.fit(X_train, y_train)\n",
    "grid_search_LightGBM.fit(X_train, y_train)\n",
    "grid_search_LogisticRegr.fit(X_train, y_train)\n",
    "grid_search_SVC.fit(X_train, y_train)\n"
   ]
  },
  {
   "cell_type": "code",
   "execution_count": 21,
   "metadata": {},
   "outputs": [
    {
     "name": "stdout",
     "output_type": "stream",
     "text": [
      "Decision Tree    =>    Best Score : 77.57    Best Parameters :   {'max_depth': 6}  \n",
      "Extra Trees      =>    Best Score : 85.04    Best Parameters :   {'max_depth': 5, 'n_estimators': 1000}  \n",
      "Random Forest    =>    Best Score : 83.73    Best Parameters :   {'max_depth': 4, 'n_estimators': 100}  \n",
      "AdaBoost         =>    Best Score : 82.39    Best Parameters :   {'learning_rate': 0.01, 'n_estimators': 1000}  \n",
      "Skl GBM          =>    Best Score : 79.3    Best Parameters :   {'learning_rate': 0.01, 'n_estimators': 100}  \n",
      "XGBoost          =>    Best Score : 82.85    Best Parameters :   {'booster': 'gblinear', 'eta': 0.1}  \n",
      "LightGBM         =>    Best Score : 83.28    Best Parameters :   {'learning_rate': 0.1, 'n_estimators': 10}  \n",
      "LogisticRegr     =>    Best Score : 82.85    Best Parameters :   {'C': 10, 'max_iter': 150}  \n",
      "SVC              =>    Best Score : 81.96    Best Parameters :   {'C': 0.1, 'kernel': 'linear'}  \n"
     ]
    }
   ],
   "source": [
    "print(f'Decision Tree    =>    Best Score : {round(grid_search_DecisionTree.best_score_ * 100, 2)}    Best Parameters :   {grid_search_DecisionTree.best_params_}  ')\n",
    "print(f'Extra Trees      =>    Best Score : {round(grid_search_ExtraTree.best_score_ * 100, 2)}    Best Parameters :   {grid_search_ExtraTree.best_params_}  ')\n",
    "print(f'Random Forest    =>    Best Score : {round(grid_search_RandomForest.best_score_ * 100, 2)}    Best Parameters :   {grid_search_RandomForest.best_params_}  ')\n",
    "print(f'AdaBoost         =>    Best Score : {round(grid_search_AdaBoost.best_score_ * 100, 2)}    Best Parameters :   {grid_search_AdaBoost.best_params_}  ')\n",
    "print(f'Skl GBM          =>    Best Score : {round(grid_search_SklGBM.best_score_ * 100, 2)}    Best Parameters :   {grid_search_SklGBM.best_params_}  ')\n",
    "print(f'XGBoost          =>    Best Score : {round(grid_search_XGBoost.best_score_ * 100, 2)}    Best Parameters :   {grid_search_XGBoost.best_params_}  ')\n",
    "print(f'LightGBM         =>    Best Score : {round(grid_search_LightGBM.best_score_ * 100, 2)}    Best Parameters :   {grid_search_LightGBM.best_params_}  ')\n",
    "print(f'LogisticRegr     =>    Best Score : {round(grid_search_LogisticRegr.best_score_ * 100, 2)}    Best Parameters :   {grid_search_LogisticRegr.best_params_}  ')\n",
    "print(f'SVC              =>    Best Score : {round(grid_search_SVC.best_score_ * 100, 2)}    Best Parameters :   {grid_search_SVC.best_params_}  ')\n",
    "\n"
   ]
  },
  {
   "cell_type": "code",
   "execution_count": null,
   "metadata": {},
   "outputs": [],
   "source": [
    "\"\"\"\n",
    "Decision Tree    =>    Best Score : 77.57    Best Parameters :   {'max_depth': 6}  \n",
    "Extra Trees      =>    Best Score : 85.04    Best Parameters :   {'max_depth': 5, 'n_estimators': 1000}  \n",
    "Random Forest    =>    Best Score : 83.73    Best Parameters :   {'max_depth': 4, 'n_estimators': 100}  \n",
    "AdaBoost         =>    Best Score : 82.39    Best Parameters :   {'learning_rate': 0.01, 'n_estimators': 1000}  \n",
    "Skl GBM          =>    Best Score : 79.30    Best Parameters :   {'learning_rate': 0.01, 'n_estimators': 100}  \n",
    "XGBoost          =>    Best Score : 82.85    Best Parameters :   {'booster': 'gblinear', 'eta': 0.1}  \n",
    "LightGBM         =>    Best Score : 83.28    Best Parameters :   {'learning_rate': 0.1, 'n_estimators': 10}  \n",
    "LogisticRegr     =>    Best Score : 82.85    Best Parameters :   {'C': 10, 'max_iter': 150}  \n",
    "SVC              =>    Best Score : 81.96    Best Parameters :   {'C': 0.1, 'kernel': 'linear'} \n",
    "\n",
    "\"\"\"\n"
   ]
  },
  {
   "cell_type": "code",
   "execution_count": 14,
   "metadata": {},
   "outputs": [],
   "source": [
    "#   \"Decision Tree\":  DecisionTreeClassifier(max_depth=4, random_state=15),\n",
    "#   \"Extra Trees\":    ExtraTreesClassifier(n_estimators=100, random_state=15),\n",
    "#   \"Random Forest\":  RandomForestClassifier(n_estimators=100, random_state=15),\n",
    "#   \"AdaBoost\":       AdaBoostClassifier(n_estimators=100, random_state=15),\n",
    "#   \"Skl GBM\":        GradientBoostingClassifier(n_estimators=100, random_state=15),\n",
    "#   \"XGBoost\":        XGBClassifier(n_estimators=100, random_state=15),\n",
    "#   \"LightGBM\":       LGBMClassifier(n_estimators=100, random_state=15),\n",
    "#   \"CatBoost\":       CatBoostClassifier(n_estimators=100, random_state=15),\n",
    "#   'LogisticRegr':   LogisticRegression(random_state=15),\n",
    "#   'SVC' :           SVC(C=10, gamma=0.001)"
   ]
  },
  {
   "cell_type": "code",
   "execution_count": 15,
   "metadata": {},
   "outputs": [],
   "source": [
    "# print('Decision Tree Train Accuracy :  ', round(tree.score(X_train, y_train) * 100, 2))\n",
    "# print('Decision Tree Test  Accuracy :  ', round(tree.score(X_test, y_test) * 100, 2))\n",
    "# print()\n",
    "# print('Random Forest Train Accuracy :  ', round(rand.score(X_train, y_train) * 100, 2))\n",
    "# print('Random Forest Test  Accuracy :  ', round(rand.score(X_test, y_test) * 100, 2))\n",
    "# print()\n",
    "# print('Logistic Regression Train Accuracy :  ', round(logic.score(X_train, y_train) * 100, 2))\n",
    "# print('Logistic Regression Test Accuracy :  ', round(logic.score(X_test, y_test) * 100, 2))"
   ]
  },
  {
   "cell_type": "code",
   "execution_count": 16,
   "metadata": {},
   "outputs": [],
   "source": [
    "# tree_classifiers = {\n",
    "  \n",
    "#   \"Decision Tree\":  DecisionTreeClassifier(max_depth=4),\n",
    "#   \"Extra Trees\":    ExtraTreesClassifier(n_estimators=100),\n",
    "#   \"Random Forest\":  RandomForestClassifier(n_estimators=100),\n",
    "#   \"AdaBoost\":       AdaBoostClassifier(n_estimators=100),\n",
    "#   \"Skl GBM\":        GradientBoostingClassifier(n_estimators=100),\n",
    "#   \"XGBoost\":        XGBClassifier(n_estimators=100, random_state=15),\n",
    "#   \"LightGBM\":       LGBMClassifier(n_estimators=100, random_state=15),\n",
    "#   \"CatBoost\":       CatBoostClassifier(n_estimators=100, random_state=15),\n",
    "#   'LogisticRegr':   LogisticRegression(random_state=15),\n",
    "#   'SVC' :           SVC(C=10, gamma=0.001)\n",
    "# }"
   ]
  },
  {
   "cell_type": "code",
   "execution_count": 17,
   "metadata": {},
   "outputs": [],
   "source": [
    "# tree_classifiers = {name: pipeline.make_pipeline(tree_prepro, model) for name, model in tree_classifiers.items()}\n",
    "\n",
    "# results = pd.DataFrame({'Model': [], 'MSE': [], 'MAB': [], 'Time': []})\n",
    "\n"
   ]
  },
  {
   "cell_type": "code",
   "execution_count": null,
   "metadata": {},
   "outputs": [],
   "source": [
    "# import time\n",
    "# for model_name, model in tree_classifiers.items():\n",
    "    \n",
    "#     start_time = time.time()\n",
    "#     model.fit(X_train, y_train)\n",
    "#     total_time = time.time() - start_time\n",
    "        \n",
    "#     pred = model.predict(X_test)\n",
    "    \n",
    "#     rang = abs(y_train.max()) - abs(y_train.min())\n",
    "\n",
    "#     results = results.append({\"Model\":          model_name,\n",
    "#                               \"MSE\":            metrics.mean_squared_error(y_test, pred),\n",
    "#                               \"MAB\":            metrics.mean_absolute_error(y_test, pred),\n",
    "#                               \" % error\":       metrics.mean_squared_error(y_test, pred) / rang,\n",
    "#                               \"Accuracy Score\": model.score(X_test,y_test),\n",
    "#                               \"Time\":           total_time},\n",
    "#                               ignore_index=True)\n",
    "\n"
   ]
  },
  {
   "cell_type": "code",
   "execution_count": null,
   "metadata": {},
   "outputs": [],
   "source": [
    "# decision_tree  =    DecisionTreeClassifier(max_depth=4, random_state=15)\n",
    "# random_forest  =    RandomForestClassifier(n_estimators=100, random_state=15)\n",
    "# logistic       =    LogisticRegression(random_state=15)\n",
    "# extra_trees    =    ExtraTreesClassifier(n_estimators=100, random_state=15)\n",
    "# ada_boost      =    AdaBoostClassifier(n_estimators=100, random_state=15)\n",
    "# skl_GBM        =    GradientBoostingClassifier(n_estimators=100, random_state=15)\n",
    "# xG_Boost       =    XGBClassifier(n_estimators=100, random_state=15)\n",
    "# lightGBM       =    LGBMClassifier(n_estimators=100, random_state=15)\n",
    "# catBoost       =    CatBoostClassifier(n_estimators=100, random_state=15)\n",
    "\n",
    "# decision_tree.fit(X_train, y_train)\n",
    "# random_forest.fit(X_train, y_train)\n",
    "# logistic.fit(X_train, y_train)\n",
    "# extra_trees.fit(X_train, y_train)\n",
    "# ada_boost.fit(X_train, y_train)\n",
    "# skl_GBM.fit(X_train, y_train)\n",
    "# xG_Boost.fit(X_train, y_train)\n",
    "# lightGBM.fit(X_train, y_train)\n",
    "# catBoost.fit(X_train, y_train)\n"
   ]
  },
  {
   "cell_type": "code",
   "execution_count": null,
   "metadata": {},
   "outputs": [],
   "source": [
    "# print(f'DECISION TREE         : Train {round(decision_tree.score(X_train, y_train) * 100, 2)} :     Test : {round(decision_tree.score(X_test, y_test) * 100, 2)}')\n",
    "# print(f'RANDOM FOREST         : Train {round(random_forest.score(X_train, y_train) * 100, 2)} :     Test : {round(random_forest.score(X_test, y_test) * 100, 2)}')\n",
    "# print(f'LOGISTIC REGRESSION   : Train {round(logistic.score(X_train, y_train) * 100, 2)} :     Test : {round(logistic.score(X_test, y_test) * 100, 2)}')\n",
    "# print(f'EXTRA TREES           : Train {round(extra_trees.score(X_train, y_train) * 100, 2)} :  Test : {round(extra_trees.score(X_test, y_test) * 100, 2)}')\n",
    "# print(f'ADA BOOST             : Train {round(ada_boost.score(X_train, y_train) * 100, 2)} :    Test : {round(ada_boost.score(X_test, y_test) * 100, 2)}')\n",
    "# print(f'SKL GBM               : Train {round(skl_GBM.score(X_train, y_train) * 100, 2)} :      Test : {round(skl_GBM.score(X_test, y_test) * 100, 2)}')\n",
    "# print(f'XG BOOST              : Train {round(xG_Boost.score(X_train, y_train) * 100, 2)} :     Test : {round(xG_Boost.score(X_test, y_test) * 100, 2)}')\n",
    "# print(f'LIGHT GBM             : Train {round(lightGBM.score(X_train, y_train) * 100, 2)} :     Test : {round(lightGBM.score(X_test, y_test) * 100, 2)}')\n",
    "# print(f'CAT BOOST             : Train {round(catBoost.score(X_train, y_train) * 100, 2)} :     Test : {round(catBoost.score(X_test, y_test) * 100, 2)}')"
   ]
  },
  {
   "cell_type": "code",
   "execution_count": 3,
   "metadata": {},
   "outputs": [
    {
     "data": {
      "image/png": "[encoded data removed]",
      "text/plain": [
       "<Figure size 1008x792 with 1 Axes>"
      ]
     },
     "metadata": {
      "needs_background": "light"
     },
     "output_type": "display_data"
    },
    {
     "data": {
      "text/plain": [
       "<Figure size 432x288 with 0 Axes>"
      ]
     },
     "metadata": {},
     "output_type": "display_data"
    }
   ],
   "source": [
    "import matplotlib.pyplot as plt\n",
    "\n",
    "data1 = pd.read_csv('accuracy_default_parameters')\n",
    "data2 = pd.read_csv('accuracy_hyper_parameters')\n",
    "data3 = pd.read_csv('accuracy_data_enhanced')\n",
    "\n",
    "# print(data1)\n",
    "# print(data2)\n",
    "# print(data3)\n",
    "\n",
    "\n",
    "accuracy = pd.concat([data1[['Model',  'Accuracy_Default']], data2['Accuracy_HyperParameter'], data3['Accuracy_Enhanced']], axis=1)\n",
    "\n",
    "data1 = accuracy['Accuracy_Default']\n",
    "data2 = accuracy['Accuracy_HyperParameter']\n",
    "data3 = accuracy['Accuracy_Enhanced']\n",
    "\n",
    "\n",
    "X = np.arange(9)\n",
    "\n",
    "# fig = plt.figure(figsize=(10, 8))\n",
    "\n",
    "plt.figure(figsize=(14, 11))\n",
    "# ax = fig.add_axes([0,0,1,1])\n",
    "\n",
    "plt.bar(X + 0.0, data1, color = 'b', width = 0.2)\n",
    "plt.bar(X + 0.2, data2, color = 'g', width = 0.2)\n",
    "plt.bar(X + 0.4, data3, color = 'r', width = 0.2)\n",
    "\n",
    "plt.ylabel('Accuracy', fontsize=20)\n",
    "plt.title('A graph of the Accuracy a function of the Model', fontsize=20)\n",
    "plt.ylim(60, 95)\n",
    "plt.xticks(X, accuracy['Model'], rotation=30, fontsize=15)\n",
    "plt.yticks(np.arange(60, 95, 5))\n",
    "plt.legend(labels=['Accuracy_Default', 'Accuracy_HyperParameter', 'Accuracy_Enhanced'], fontsize=16)\n",
    "\n",
    "plt.show()\n",
    "\n",
    "plt.savefig('accuracy_vs_models')"
   ]
  },
  {
   "cell_type": "code",
   "execution_count": 4,
   "metadata": {},
   "outputs": [
    {
     "name": "stdout",
     "output_type": "stream",
     "text": [
      "           Model  Accuracy_Default  Accuracy_HyperParameter  Accuracy_Enhanced\n",
      "0  Decision Tree              75.0                     80.3               78.9\n",
      "1    Extra Trees              82.9                     82.9               86.8\n",
      "2  Random Forest              82.9                     84.2               86.8\n",
      "3       AdaBoost              76.3                     76.3               84.2\n",
      "4        Skl GBM              80.3                     76.3               84.2\n",
      "5        XGBoost              81.6                     89.5               88.2\n",
      "6       LightGBM              80.3                     81.6               85.5\n",
      "7   LogisticRegr              88.2                     88.2               86.8\n",
      "8            SVC              65.8                     84.2               85.5\n"
     ]
    }
   ],
   "source": [
    "print(accuracy)"
   ]
  }
 ],
 "metadata": {
  "interpreter": {
   "hash": "97b91b6d5003af60c654b6abfe8ac1e5d274e52e67a717d7df64331168b10d1c"
  },
  "kernelspec": {
   "display_name": "Python 3.8.12 ('pz')",
   "language": "python",
   "name": "python3"
  },
  "language_info": {
   "codemirror_mode": {
    "name": "ipython",
    "version": 3
   },
   "file_extension": ".py",
   "mimetype": "text/x-python",
   "name": "python",
   "nbconvert_exporter": "python",
   "pygments_lexer": "ipython3",
   "version": "3.8.12"
  },
  "orig_nbformat": 4
 },
 "nbformat": 4,
 "nbformat_minor": 2
}
