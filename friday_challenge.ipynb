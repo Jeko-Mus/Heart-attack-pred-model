{
 "cells": [
  {
   "cell_type": "code",
   "execution_count": 2,
   "metadata": {},
   "outputs": [],
   "source": [
    "import pandas as pd\n",
    "import numpy as np \n",
    "from sklearn.model_selection import train_test_split\n",
    "\n",
    "from sklearn import pipeline      # Pipeline\n",
    "from sklearn import preprocessing # OrdinalEncoder, LabelEncoder\n",
    "from sklearn import impute\n",
    "from sklearn import compose\n",
    "from sklearn import model_selection # train_test_split\n",
    "from sklearn import metrics         # accuracy_score, balanced_accuracy_score, plot_confusion_matrix\n",
    "from sklearn import set_config\n",
    "\n",
    "from sklearn.tree          import DecisionTreeClassifier\n",
    "from sklearn.ensemble      import RandomForestClassifier\n",
    "from sklearn.ensemble      import ExtraTreesClassifier\n",
    "from sklearn.ensemble      import AdaBoostClassifier\n",
    "from sklearn.ensemble      import GradientBoostingClassifier\n",
    "from xgboost               import XGBClassifier\n",
    "from lightgbm              import LGBMClassifier\n",
    "from catboost              import CatBoostClassifier\n",
    "from sklearn.linear_model  import LogisticRegression"
   ]
  },
  {
   "cell_type": "code",
   "execution_count": 3,
   "metadata": {},
   "outputs": [
    {
     "data": {
      "text/html": [
       "<div>\n",
       "<style scoped>\n",
       "    .dataframe tbody tr th:only-of-type {\n",
       "        vertical-align: middle;\n",
       "    }\n",
       "\n",
       "    .dataframe tbody tr th {\n",
       "        vertical-align: top;\n",
       "    }\n",
       "\n",
       "    .dataframe thead th {\n",
       "        text-align: right;\n",
       "    }\n",
       "</style>\n",
       "<table border=\"1\" class=\"dataframe\">\n",
       "  <thead>\n",
       "    <tr style=\"text-align: right;\">\n",
       "      <th></th>\n",
       "      <th>age</th>\n",
       "      <th>sex</th>\n",
       "      <th>cp</th>\n",
       "      <th>trtbps</th>\n",
       "      <th>chol</th>\n",
       "      <th>fbs</th>\n",
       "      <th>restecg</th>\n",
       "      <th>thalachh</th>\n",
       "      <th>exng</th>\n",
       "      <th>oldpeak</th>\n",
       "      <th>slp</th>\n",
       "      <th>caa</th>\n",
       "      <th>thall</th>\n",
       "      <th>output</th>\n",
       "    </tr>\n",
       "  </thead>\n",
       "  <tbody>\n",
       "    <tr>\n",
       "      <th>0</th>\n",
       "      <td>63</td>\n",
       "      <td>1</td>\n",
       "      <td>3</td>\n",
       "      <td>145</td>\n",
       "      <td>233</td>\n",
       "      <td>1</td>\n",
       "      <td>0</td>\n",
       "      <td>150</td>\n",
       "      <td>0</td>\n",
       "      <td>2.3</td>\n",
       "      <td>0</td>\n",
       "      <td>0</td>\n",
       "      <td>1</td>\n",
       "      <td>1</td>\n",
       "    </tr>\n",
       "    <tr>\n",
       "      <th>1</th>\n",
       "      <td>37</td>\n",
       "      <td>1</td>\n",
       "      <td>2</td>\n",
       "      <td>130</td>\n",
       "      <td>250</td>\n",
       "      <td>0</td>\n",
       "      <td>1</td>\n",
       "      <td>187</td>\n",
       "      <td>0</td>\n",
       "      <td>3.5</td>\n",
       "      <td>0</td>\n",
       "      <td>0</td>\n",
       "      <td>2</td>\n",
       "      <td>1</td>\n",
       "    </tr>\n",
       "  </tbody>\n",
       "</table>\n",
       "</div>"
      ],
      "text/plain": [
       "   age  sex  cp  trtbps  chol  fbs  restecg  thalachh  exng  oldpeak  slp  \\\n",
       "0   63    1   3     145   233    1        0       150     0      2.3    0   \n",
       "1   37    1   2     130   250    0        1       187     0      3.5    0   \n",
       "\n",
       "   caa  thall  output  \n",
       "0    0      1       1  \n",
       "1    0      2       1  "
      ]
     },
     "execution_count": 3,
     "metadata": {},
     "output_type": "execute_result"
    }
   ],
   "source": [
    "data_heart = pd.read_csv('heart.csv')\n",
    "data_heart.head(2)"
   ]
  },
  {
   "cell_type": "code",
   "execution_count": 4,
   "metadata": {},
   "outputs": [
    {
     "data": {
      "text/plain": [
       "(3585, 1)"
      ]
     },
     "execution_count": 4,
     "metadata": {},
     "output_type": "execute_result"
    }
   ],
   "source": [
    "data_saturation = pd.read_csv('o2Saturation.csv')\n",
    "data_saturation.shape"
   ]
  },
  {
   "cell_type": "code",
   "execution_count": 6,
   "metadata": {},
   "outputs": [],
   "source": [
    "x_variables = ['age', 'sex', 'cp',\t'trtbps',\t'chol',\t'fbs', 'restecg',\t'thalachh',\t'exng',\t'oldpeak',\t'slp',\t'caa',\t'thall']\n",
    "y_variable  = 'output'"
   ]
  },
  {
   "cell_type": "code",
   "execution_count": 7,
   "metadata": {},
   "outputs": [
    {
     "data": {
      "text/plain": [
       "array([1, 0], dtype=int64)"
      ]
     },
     "execution_count": 7,
     "metadata": {},
     "output_type": "execute_result"
    }
   ],
   "source": [
    "X = data_heart[x_variables]\n",
    "y = data_heart[y_variable]\n",
    "y.unique()"
   ]
  },
  {
   "cell_type": "code",
   "execution_count": 8,
   "metadata": {},
   "outputs": [],
   "source": [
    "X_train, X_test, y_train, y_test = train_test_split(X, y)\n",
    "# print(X_train.shape, X_test.shape, y_train.shape, y_test.shape)"
   ]
  },
  {
   "cell_type": "code",
   "execution_count": 9,
   "metadata": {},
   "outputs": [],
   "source": [
    "\n",
    "# params_decision_tree = { 'kernel' : ['linear', 'rbf'],        'C': np.arange(1, 10, 1) }\n",
    "\n"
   ]
  },
  {
   "cell_type": "code",
   "execution_count": 10,
   "metadata": {},
   "outputs": [],
   "source": [
    "from sklearn.model_selection import GridSearchCV\n",
    "from sklearn.svm import SVC\n",
    "\n",
    "param_DecisionTree  = {'max_depth'   : [3, 4, 5, 6, 7, 8, 9]}\n",
    "param_ExtraTree     = {'n_estimators': [0.1, 1, 10, 100, 100, 1000],     'max_depth'     : [3, 4, 5, 6, 7, 8, 9]}\n",
    "param_RandomForest  = {'n_estimators': [0.1, 1, 10, 100, 100, 1000],     'max_depth'     : [3, 4, 5, 6, 7, 8, 9]}\n",
    "param_AdaBoost      = {'n_estimators': [0.1, 1, 10, 100, 100, 1000],     'learning_rate' : [0.01, 0.1, 1, 10, 100, 1000]}\n",
    "param_SklGBM        = {'n_estimators': [0.1, 1, 10, 100, 100, 1000],     'learning_rate' : [0.01, 0.1, 1, 10, 100, 1000]}\n",
    "param_XGBoost       = {'booster'     : ['gbtree', 'gblinear'],           'eta'           : [0.01, 0.1, 1, 10, 100, 1000] }\n",
    "param_LightGBM      = {'n_estimators': [0.01, 0.1, 1, 10, 100, 1000],    'learning_rate' : [0.01, 0.1, 1, 10, 100, 1000]}\n",
    "param_LogisticRegr  = {'C'           : [0.01, 0.1, 1, 10, 100, 1000],    'max_iter'      : [10, 50, 100, 150, 200, 1000]}\n",
    "param_SVC           = {'kernel'      : ['linear', 'rbf'],                  'C'           : [0.01, 0.1, 1, 10, 100, 1000]}      # 'gamma'         : [0.001, 0.01, 0.1, 1, 10, 100, 1000] ,      \n",
    "\n",
    "\n",
    "grid_search_DecisionTree      = GridSearchCV(DecisionTreeClassifier(), param_DecisionTree, cv=5)\n",
    "grid_search_ExtraTree         = GridSearchCV(ExtraTreesClassifier(), param_ExtraTree, cv=5)\n",
    "grid_search_RandomForest      = GridSearchCV(RandomForestClassifier(), param_RandomForest, cv=5)\n",
    "grid_search_AdaBoost          = GridSearchCV(AdaBoostClassifier(), param_AdaBoost, cv=5)\n",
    "grid_search_SklGBM            = GridSearchCV(GradientBoostingClassifier(), param_SklGBM, cv=5)\n",
    "grid_search_XGBoost           = GridSearchCV(XGBClassifier(), param_XGBoost, cv=5)\n",
    "grid_search_LightGBM          = GridSearchCV(LGBMClassifier(), param_LightGBM, cv=5)\n",
    "grid_search_LogisticRegr      = GridSearchCV(LogisticRegression(), param_LogisticRegr, cv=5)\n",
    "grid_search_SVC               = GridSearchCV(SVC(), param_SVC, cv=5)\n",
    "\n"
   ]
  },
  {
   "cell_type": "code",
   "execution_count": 11,
   "metadata": {},
   "outputs": [
    {
     "data": {
      "text/plain": [
       "GridSearchCV(cv=5, estimator=SVC(),\n",
       "             param_grid={'C': [0.01, 0.1, 1, 10, 100, 1000],\n",
       "                         'kernel': ['linear', 'rbf']})"
      ]
     },
     "execution_count": 11,
     "metadata": {},
     "output_type": "execute_result"
    }
   ],
   "source": [
    "# grid_search_DecisionTree.fit(X_train, y_train)\n",
    "# grid_search_ExtraTree.fit(X_train, y_train)\n",
    "# grid_search_RandomForest.fit(X_train, y_train)\n",
    "# grid_search_AdaBoost.fit(X_train, y_train)\n",
    "# grid_search_SklGBM.fit(X_train, y_train)\n",
    "# grid_search_XGBoost.fit(X_train, y_train)\n",
    "# grid_search_LightGBM.fit(X_train, y_train)\n",
    "# grid_search_LogisticRegr.fit(X_train, y_train)\n",
    "grid_search_SVC.fit(X_train, y_train)\n"
   ]
  },
  {
   "cell_type": "code",
   "execution_count": 12,
   "metadata": {},
   "outputs": [
    {
     "name": "stdout",
     "output_type": "stream",
     "text": [
      "SVC              =>    Best Score : 81.93    Best Parameters :   {'C': 100, 'kernel': 'linear'}  \n"
     ]
    }
   ],
   "source": [
    "# print(f'Decision Tree    =>    Best Score : {round(grid_search_DecisionTree.best_score_ * 100, 2)}    Best Parameters :   {grid_search_DecisionTree.best_params_}  ')\n",
    "# print(f'Extra Trees      =>    Best Score : {round(grid_search_ExtraTree.best_score_ * 100, 2)}    Best Parameters :   {grid_search_ExtraTree.best_params_}  ')\n",
    "# print(f'Random Forest    =>    Best Score : {round(grid_search_RandomForest.best_score_ * 100, 2)}    Best Parameters :   {grid_search_RandomForest.best_params_}  ')\n",
    "# print(f'AdaBoost         =>    Best Score : {round(grid_search_AdaBoost.best_score_ * 100, 2)}    Best Parameters :   {grid_search_AdaBoost.best_params_}  ')\n",
    "# print(f'Skl GBM          =>    Best Score : {round(grid_search_SklGBM.best_score_ * 100, 2)}    Best Parameters :   {grid_search_SklGBM.best_params_}  ')\n",
    "# print(f'XGBoost          =>    Best Score : {round(grid_search_XGBoost.best_score_ * 100, 2)}    Best Parameters :   {grid_search_XGBoost.best_params_}  ')\n",
    "# print(f'LightGBM         =>    Best Score : {round(grid_search_LightGBM.best_score_ * 100, 2)}    Best Parameters :   {grid_search_LightGBM.best_params_}  ')\n",
    "# print(f'LogisticRegr     =>    Best Score : {round(grid_search_LogisticRegr.best_score_ * 100, 2)}    Best Parameters :   {grid_search_LogisticRegr.best_params_}  ')\n",
    "print(f'SVC              =>    Best Score : {round(grid_search_SVC.best_score_ * 100, 2)}    Best Parameters :   {grid_search_SVC.best_params_}  ')\n",
    "\n"
   ]
  },
  {
   "cell_type": "code",
   "execution_count": 13,
   "metadata": {},
   "outputs": [
    {
     "data": {
      "text/plain": [
       "\"\\n\\nDecision Tree    =>    Best Score : 74.85    Best Parameters :   {'max_depth': 3}  \\nExtra Trees      =>    Best Score : 84.55    Best Parameters :   {'max_depth': 3, 'n_estimators': 10}  \\nRandom Forest    =>    Best Score : 82.79    Best Parameters :   {'max_depth': 4, 'n_estimators': 100}  \\nAdaBoost         =>    Best Score : 84.1     Best Parameters :   {'learning_rate': 0.01, 'n_estimators': 1000} \\nSkl GBM          =>    Best Score : 80.59    Best Parameters :   {'learning_rate': 1, 'n_estimators': 1000}  \\nXGBoost          =>    Best Score : 83.68    Best Parameters :   {'booster': 'gblinear', 'eta': 1}  \\nLightGBM         =>    Best Score : 81.47    Best Parameters :   {'learning_rate': 1, 'n_estimators': 10}\\n\\nLogisticRegr     =>    Best Score : 83.28    Best Parameters :   {'C': 0.1, 'max_iter': 200}  \\n\\n\\n\""
      ]
     },
     "execution_count": 13,
     "metadata": {},
     "output_type": "execute_result"
    }
   ],
   "source": [
    "\"\"\"\n",
    "\n",
    "Decision Tree    =>    Best Score : 74.85    Best Parameters :   {'max_depth': 3}  \n",
    "Extra Trees      =>    Best Score : 84.55    Best Parameters :   {'max_depth': 3, 'n_estimators': 10}  \n",
    "Random Forest    =>    Best Score : 82.79    Best Parameters :   {'max_depth': 4, 'n_estimators': 100}  \n",
    "AdaBoost         =>    Best Score : 84.1     Best Parameters :   {'learning_rate': 0.01, 'n_estimators': 1000} \n",
    "Skl GBM          =>    Best Score : 80.59    Best Parameters :   {'learning_rate': 1, 'n_estimators': 1000}  \n",
    "XGBoost          =>    Best Score : 83.68    Best Parameters :   {'booster': 'gblinear', 'eta': 1}  \n",
    "LightGBM         =>    Best Score : 81.47    Best Parameters :   {'learning_rate': 1, 'n_estimators': 10}\n",
    "LogisticRegr     =>    Best Score : 83.28    Best Parameters :   {'C': 0.1, 'max_iter': 200}  \n",
    "SVC              =>    Best Score : 81.93    Best Parameters :   {'C': 100, 'kernel': 'linear'} \n",
    "\n",
    "\"\"\"\n"
   ]
  },
  {
   "cell_type": "code",
   "execution_count": 14,
   "metadata": {},
   "outputs": [],
   "source": [
    "#   \"Decision Tree\":  DecisionTreeClassifier(max_depth=4, random_state=15),\n",
    "#   \"Extra Trees\":    ExtraTreesClassifier(n_estimators=100, random_state=15),\n",
    "#   \"Random Forest\":  RandomForestClassifier(n_estimators=100, random_state=15),\n",
    "#   \"AdaBoost\":       AdaBoostClassifier(n_estimators=100, random_state=15),\n",
    "#   \"Skl GBM\":        GradientBoostingClassifier(n_estimators=100, random_state=15),\n",
    "#   \"XGBoost\":        XGBClassifier(n_estimators=100, random_state=15),\n",
    "#   \"LightGBM\":       LGBMClassifier(n_estimators=100, random_state=15),\n",
    "#   \"CatBoost\":       CatBoostClassifier(n_estimators=100, random_state=15),\n",
    "#   'LogisticRegr':   LogisticRegression(random_state=15),\n",
    "#   'SVC' :           SVC(C=10, gamma=0.001)"
   ]
  },
  {
   "cell_type": "code",
   "execution_count": null,
   "metadata": {},
   "outputs": [],
   "source": []
  },
  {
   "cell_type": "code",
   "execution_count": null,
   "metadata": {},
   "outputs": [],
   "source": []
  },
  {
   "cell_type": "code",
   "execution_count": 15,
   "metadata": {},
   "outputs": [],
   "source": [
    "# print('Decision Tree Train Accuracy :  ', round(tree.score(X_train, y_train) * 100, 2))\n",
    "# print('Decision Tree Test  Accuracy :  ', round(tree.score(X_test, y_test) * 100, 2))\n",
    "# print()\n",
    "# print('Random Forest Train Accuracy :  ', round(rand.score(X_train, y_train) * 100, 2))\n",
    "# print('Random Forest Test  Accuracy :  ', round(rand.score(X_test, y_test) * 100, 2))\n",
    "# print()\n",
    "# print('Logistic Regression Train Accuracy :  ', round(logic.score(X_train, y_train) * 100, 2))\n",
    "# print('Logistic Regression Test Accuracy :  ', round(logic.score(X_test, y_test) * 100, 2))"
   ]
  },
  {
   "cell_type": "code",
   "execution_count": 16,
   "metadata": {},
   "outputs": [],
   "source": [
    "tree_classifiers = {\n",
    "  \n",
    "  \"Decision Tree\":  DecisionTreeClassifier(max_depth=4, random_state=15),\n",
    "  \"Extra Trees\":    ExtraTreesClassifier(n_estimators=100, random_state=15),\n",
    "  \"Random Forest\":  RandomForestClassifier(n_estimators=100, random_state=15),\n",
    "  \"AdaBoost\":       AdaBoostClassifier(n_estimators=100, random_state=15),\n",
    "  \"Skl GBM\":        GradientBoostingClassifier(n_estimators=100, random_state=15),\n",
    "  \"XGBoost\":        XGBClassifier(n_estimators=100, random_state=15),\n",
    "  \"LightGBM\":       LGBMClassifier(n_estimators=100, random_state=15),\n",
    "  \"CatBoost\":       CatBoostClassifier(n_estimators=100, random_state=15),\n",
    "  'LogisticRegr':   LogisticRegression(random_state=15),\n",
    "  'SVC' :           SVC(C=10, gamma=0.001)\n",
    "}"
   ]
  },
  {
   "cell_type": "code",
   "execution_count": 17,
   "metadata": {},
   "outputs": [],
   "source": [
    "# tree_classifiers = {name: pipeline.make_pipeline(tree_prepro, model) for name, model in tree_classifiers.items()}\n",
    "\n",
    "results = pd.DataFrame({'Model': [], 'MSE': [], 'MAB': [], 'Time': []})\n",
    "\n"
   ]
  },
  {
   "cell_type": "code",
   "execution_count": null,
   "metadata": {},
   "outputs": [],
   "source": [
    "import time\n",
    "for model_name, model in tree_classifiers.items():\n",
    "    \n",
    "    start_time = time.time()\n",
    "    model.fit(X_train, y_train)\n",
    "    total_time = time.time() - start_time\n",
    "        \n",
    "    pred = model.predict(X_test)\n",
    "    \n",
    "    rang = abs(y_train.max()) - abs(y_train.min())\n",
    "\n",
    "    results = results.append({\"Model\":          model_name,\n",
    "                              \"MSE\":            metrics.mean_squared_error(y_test, pred),\n",
    "                              \"MAB\":            metrics.mean_absolute_error(y_test, pred),\n",
    "                              \" % error\":       metrics.mean_squared_error(y_test, pred) / rang,\n",
    "                              \"Accuracy Score\": model.score(X_test,y_test),\n",
    "                              \"Time\":           total_time},\n",
    "                              ignore_index=True)\n",
    "\n"
   ]
  },
  {
   "cell_type": "code",
   "execution_count": 23,
   "metadata": {},
   "outputs": [
    {
     "data": {
      "text/html": [
       "<style type=\"text/css\">\n",
       "#T_dad25_row0_col1, #T_dad25_row0_col2 {\n",
       "  width: 10em;\n",
       "  height: 80%;\n",
       "  background: linear-gradient(90deg,#5fba7d 0.1%, transparent 0.1%);\n",
       "}\n",
       "#T_dad25_row1_col1, #T_dad25_row1_col2, #T_dad25_row2_col1, #T_dad25_row2_col2, #T_dad25_row3_col1, #T_dad25_row3_col2, #T_dad25_row4_col1, #T_dad25_row4_col2, #T_dad25_row5_col1, #T_dad25_row5_col2, #T_dad25_row6_col1, #T_dad25_row6_col2, #T_dad25_row7_col1, #T_dad25_row7_col2, #T_dad25_row8_col1, #T_dad25_row8_col2 {\n",
       "  width: 10em;\n",
       "  height: 80%;\n",
       "  background: linear-gradient(90deg,#5fba7d 0.2%, transparent 0.2%);\n",
       "}\n",
       "#T_dad25_row9_col1, #T_dad25_row9_col2 {\n",
       "  width: 10em;\n",
       "  height: 80%;\n",
       "  background: linear-gradient(90deg,#5fba7d 0.3%, transparent 0.3%);\n",
       "}\n",
       "</style>\n",
       "<table id=\"T_dad25_\">\n",
       "  <thead>\n",
       "    <tr>\n",
       "      <th class=\"blank level0\" >&nbsp;</th>\n",
       "      <th class=\"col_heading level0 col0\" >Model</th>\n",
       "      <th class=\"col_heading level0 col1\" >MSE</th>\n",
       "      <th class=\"col_heading level0 col2\" >MAB</th>\n",
       "      <th class=\"col_heading level0 col3\" >Time</th>\n",
       "      <th class=\"col_heading level0 col4\" > % error</th>\n",
       "      <th class=\"col_heading level0 col5\" >Accuracy Score</th>\n",
       "    </tr>\n",
       "  </thead>\n",
       "  <tbody>\n",
       "    <tr>\n",
       "      <th id=\"T_dad25_level0_row0\" class=\"row_heading level0 row0\" >1</th>\n",
       "      <td id=\"T_dad25_row0_col0\" class=\"data row0 col0\" >LogisticRegr</td>\n",
       "      <td id=\"T_dad25_row0_col1\" class=\"data row0 col1\" >0.118421</td>\n",
       "      <td id=\"T_dad25_row0_col2\" class=\"data row0 col2\" >0.118421</td>\n",
       "      <td id=\"T_dad25_row0_col3\" class=\"data row0 col3\" >0.033905</td>\n",
       "      <td id=\"T_dad25_row0_col4\" class=\"data row0 col4\" >0.118421</td>\n",
       "      <td id=\"T_dad25_row0_col5\" class=\"data row0 col5\" >0.881579</td>\n",
       "    </tr>\n",
       "    <tr>\n",
       "      <th id=\"T_dad25_level0_row1\" class=\"row_heading level0 row1\" >2</th>\n",
       "      <td id=\"T_dad25_row1_col0\" class=\"data row1 col0\" >CatBoost</td>\n",
       "      <td id=\"T_dad25_row1_col1\" class=\"data row1 col1\" >0.157895</td>\n",
       "      <td id=\"T_dad25_row1_col2\" class=\"data row1 col2\" >0.157895</td>\n",
       "      <td id=\"T_dad25_row1_col3\" class=\"data row1 col3\" >0.370825</td>\n",
       "      <td id=\"T_dad25_row1_col4\" class=\"data row1 col4\" >0.157895</td>\n",
       "      <td id=\"T_dad25_row1_col5\" class=\"data row1 col5\" >0.842105</td>\n",
       "    </tr>\n",
       "    <tr>\n",
       "      <th id=\"T_dad25_level0_row2\" class=\"row_heading level0 row2\" >3</th>\n",
       "      <td id=\"T_dad25_row2_col0\" class=\"data row2 col0\" >Random Forest</td>\n",
       "      <td id=\"T_dad25_row2_col1\" class=\"data row2 col1\" >0.184211</td>\n",
       "      <td id=\"T_dad25_row2_col2\" class=\"data row2 col2\" >0.184211</td>\n",
       "      <td id=\"T_dad25_row2_col3\" class=\"data row2 col3\" >0.167991</td>\n",
       "      <td id=\"T_dad25_row2_col4\" class=\"data row2 col4\" >0.184211</td>\n",
       "      <td id=\"T_dad25_row2_col5\" class=\"data row2 col5\" >0.815789</td>\n",
       "    </tr>\n",
       "    <tr>\n",
       "      <th id=\"T_dad25_level0_row3\" class=\"row_heading level0 row3\" >4</th>\n",
       "      <td id=\"T_dad25_row3_col0\" class=\"data row3 col0\" >Skl GBM</td>\n",
       "      <td id=\"T_dad25_row3_col1\" class=\"data row3 col1\" >0.184211</td>\n",
       "      <td id=\"T_dad25_row3_col2\" class=\"data row3 col2\" >0.184211</td>\n",
       "      <td id=\"T_dad25_row3_col3\" class=\"data row3 col3\" >0.075965</td>\n",
       "      <td id=\"T_dad25_row3_col4\" class=\"data row3 col4\" >0.184211</td>\n",
       "      <td id=\"T_dad25_row3_col5\" class=\"data row3 col5\" >0.815789</td>\n",
       "    </tr>\n",
       "    <tr>\n",
       "      <th id=\"T_dad25_level0_row4\" class=\"row_heading level0 row4\" >5</th>\n",
       "      <td id=\"T_dad25_row4_col0\" class=\"data row4 col0\" >Extra Trees</td>\n",
       "      <td id=\"T_dad25_row4_col1\" class=\"data row4 col1\" >0.197368</td>\n",
       "      <td id=\"T_dad25_row4_col2\" class=\"data row4 col2\" >0.197368</td>\n",
       "      <td id=\"T_dad25_row4_col3\" class=\"data row4 col3\" >0.199117</td>\n",
       "      <td id=\"T_dad25_row4_col4\" class=\"data row4 col4\" >0.197368</td>\n",
       "      <td id=\"T_dad25_row4_col5\" class=\"data row4 col5\" >0.802632</td>\n",
       "    </tr>\n",
       "    <tr>\n",
       "      <th id=\"T_dad25_level0_row5\" class=\"row_heading level0 row5\" >6</th>\n",
       "      <td id=\"T_dad25_row5_col0\" class=\"data row5 col0\" >LightGBM</td>\n",
       "      <td id=\"T_dad25_row5_col1\" class=\"data row5 col1\" >0.210526</td>\n",
       "      <td id=\"T_dad25_row5_col2\" class=\"data row5 col2\" >0.210526</td>\n",
       "      <td id=\"T_dad25_row5_col3\" class=\"data row5 col3\" >0.026059</td>\n",
       "      <td id=\"T_dad25_row5_col4\" class=\"data row5 col4\" >0.210526</td>\n",
       "      <td id=\"T_dad25_row5_col5\" class=\"data row5 col5\" >0.789474</td>\n",
       "    </tr>\n",
       "    <tr>\n",
       "      <th id=\"T_dad25_level0_row6\" class=\"row_heading level0 row6\" >7</th>\n",
       "      <td id=\"T_dad25_row6_col0\" class=\"data row6 col0\" >XGBoost</td>\n",
       "      <td id=\"T_dad25_row6_col1\" class=\"data row6 col1\" >0.236842</td>\n",
       "      <td id=\"T_dad25_row6_col2\" class=\"data row6 col2\" >0.236842</td>\n",
       "      <td id=\"T_dad25_row6_col3\" class=\"data row6 col3\" >0.058917</td>\n",
       "      <td id=\"T_dad25_row6_col4\" class=\"data row6 col4\" >0.236842</td>\n",
       "      <td id=\"T_dad25_row6_col5\" class=\"data row6 col5\" >0.763158</td>\n",
       "    </tr>\n",
       "    <tr>\n",
       "      <th id=\"T_dad25_level0_row7\" class=\"row_heading level0 row7\" >8</th>\n",
       "      <td id=\"T_dad25_row7_col0\" class=\"data row7 col0\" >Decision Tree</td>\n",
       "      <td id=\"T_dad25_row7_col1\" class=\"data row7 col1\" >0.250000</td>\n",
       "      <td id=\"T_dad25_row7_col2\" class=\"data row7 col2\" >0.250000</td>\n",
       "      <td id=\"T_dad25_row7_col3\" class=\"data row7 col3\" >0.006294</td>\n",
       "      <td id=\"T_dad25_row7_col4\" class=\"data row7 col4\" >0.250000</td>\n",
       "      <td id=\"T_dad25_row7_col5\" class=\"data row7 col5\" >0.750000</td>\n",
       "    </tr>\n",
       "    <tr>\n",
       "      <th id=\"T_dad25_level0_row8\" class=\"row_heading level0 row8\" >9</th>\n",
       "      <td id=\"T_dad25_row8_col0\" class=\"data row8 col0\" >AdaBoost</td>\n",
       "      <td id=\"T_dad25_row8_col1\" class=\"data row8 col1\" >0.250000</td>\n",
       "      <td id=\"T_dad25_row8_col2\" class=\"data row8 col2\" >0.250000</td>\n",
       "      <td id=\"T_dad25_row8_col3\" class=\"data row8 col3\" >0.144137</td>\n",
       "      <td id=\"T_dad25_row8_col4\" class=\"data row8 col4\" >0.250000</td>\n",
       "      <td id=\"T_dad25_row8_col5\" class=\"data row8 col5\" >0.750000</td>\n",
       "    </tr>\n",
       "    <tr>\n",
       "      <th id=\"T_dad25_level0_row9\" class=\"row_heading level0 row9\" >10</th>\n",
       "      <td id=\"T_dad25_row9_col0\" class=\"data row9 col0\" >SVC</td>\n",
       "      <td id=\"T_dad25_row9_col1\" class=\"data row9 col1\" >0.328947</td>\n",
       "      <td id=\"T_dad25_row9_col2\" class=\"data row9 col2\" >0.328947</td>\n",
       "      <td id=\"T_dad25_row9_col3\" class=\"data row9 col3\" >0.007979</td>\n",
       "      <td id=\"T_dad25_row9_col4\" class=\"data row9 col4\" >0.328947</td>\n",
       "      <td id=\"T_dad25_row9_col5\" class=\"data row9 col5\" >0.671053</td>\n",
       "    </tr>\n",
       "  </tbody>\n",
       "</table>\n"
      ],
      "text/plain": [
       "<pandas.io.formats.style.Styler at 0x1d4900ad880>"
      ]
     },
     "execution_count": 23,
     "metadata": {},
     "output_type": "execute_result"
    }
   ],
   "source": [
    "results_ord = results.sort_values(by=['Accuracy Score'], ascending=False, ignore_index=True)\n",
    "results_ord.index += 1 \n",
    "results_ord.style.bar(subset=['MSE', 'MAB'], vmin=0, vmax=100, color='#5fba7d')"
   ]
  },
  {
   "cell_type": "code",
   "execution_count": 28,
   "metadata": {},
   "outputs": [],
   "source": []
  },
  {
   "cell_type": "code",
   "execution_count": null,
   "metadata": {},
   "outputs": [],
   "source": []
  },
  {
   "cell_type": "code",
   "execution_count": null,
   "metadata": {},
   "outputs": [],
   "source": []
  },
  {
   "cell_type": "code",
   "execution_count": null,
   "metadata": {},
   "outputs": [],
   "source": []
  },
  {
   "cell_type": "code",
   "execution_count": null,
   "metadata": {},
   "outputs": [],
   "source": []
  },
  {
   "cell_type": "code",
   "execution_count": null,
   "metadata": {},
   "outputs": [],
   "source": []
  },
  {
   "cell_type": "code",
   "execution_count": 21,
   "metadata": {},
   "outputs": [
    {
     "name": "stderr",
     "output_type": "stream",
     "text": [
      "C:\\Users\\Omistaja\\.conda\\envs\\pz\\lib\\site-packages\\sklearn\\linear_model\\_logistic.py:814: ConvergenceWarning: lbfgs failed to converge (status=1):\n",
      "STOP: TOTAL NO. of ITERATIONS REACHED LIMIT.\n",
      "\n",
      "Increase the number of iterations (max_iter) or scale the data as shown in:\n",
      "    https://scikit-learn.org/stable/modules/preprocessing.html\n",
      "Please also refer to the documentation for alternative solver options:\n",
      "    https://scikit-learn.org/stable/modules/linear_model.html#logistic-regression\n",
      "  n_iter_i = _check_optimize_result(\n",
      "C:\\Users\\Omistaja\\.conda\\envs\\pz\\lib\\site-packages\\xgboost\\sklearn.py:1224: UserWarning: The use of label encoder in XGBClassifier is deprecated and will be removed in a future release. To remove this warning, do the following: 1) Pass option use_label_encoder=False when constructing XGBClassifier object; and 2) Encode your labels (y) as integers starting with 0, i.e. 0, 1, 2, ..., [num_class - 1].\n",
      "  warnings.warn(label_encoder_deprecation_msg, UserWarning)\n"
     ]
    },
    {
     "name": "stdout",
     "output_type": "stream",
     "text": [
      "[07:53:24] WARNING: ..\\src\\learner.cc:1115: Starting in XGBoost 1.3.0, the default evaluation metric used with the objective 'binary:logistic' was changed from 'error' to 'logloss'. Explicitly set eval_metric if you'd like to restore the old behavior.\n",
      "Learning rate set to 0.045181\n",
      "0:\tlearn: 0.6814289\ttotal: 876us\tremaining: 86.7ms\n",
      "1:\tlearn: 0.6694359\ttotal: 1.65ms\tremaining: 80.8ms\n",
      "2:\tlearn: 0.6586929\ttotal: 2.31ms\tremaining: 74.5ms\n",
      "3:\tlearn: 0.6482036\ttotal: 2.97ms\tremaining: 71.3ms\n",
      "4:\tlearn: 0.6363458\ttotal: 3.71ms\tremaining: 70.6ms\n",
      "5:\tlearn: 0.6258679\ttotal: 4.49ms\tremaining: 70.4ms\n",
      "6:\tlearn: 0.6182697\ttotal: 5.19ms\tremaining: 68.9ms\n",
      "7:\tlearn: 0.6064209\ttotal: 5.97ms\tremaining: 68.6ms\n",
      "8:\tlearn: 0.5980383\ttotal: 6.72ms\tremaining: 67.9ms\n",
      "9:\tlearn: 0.5898914\ttotal: 7.46ms\tremaining: 67.1ms\n",
      "10:\tlearn: 0.5832363\ttotal: 8.2ms\tremaining: 66.3ms\n",
      "11:\tlearn: 0.5755464\ttotal: 9.02ms\tremaining: 66.2ms\n",
      "12:\tlearn: 0.5694149\ttotal: 9.94ms\tremaining: 66.5ms\n",
      "13:\tlearn: 0.5609318\ttotal: 10.8ms\tremaining: 66.6ms\n",
      "14:\tlearn: 0.5542274\ttotal: 12ms\tremaining: 68.2ms\n",
      "15:\tlearn: 0.5475904\ttotal: 14.5ms\tremaining: 76.1ms\n",
      "16:\tlearn: 0.5407990\ttotal: 15.6ms\tremaining: 76ms\n",
      "17:\tlearn: 0.5333670\ttotal: 16.6ms\tremaining: 75.8ms\n",
      "18:\tlearn: 0.5265536\ttotal: 17.7ms\tremaining: 75.4ms\n",
      "19:\tlearn: 0.5202105\ttotal: 18.6ms\tremaining: 74.4ms\n",
      "20:\tlearn: 0.5137304\ttotal: 19.4ms\tremaining: 72.9ms\n",
      "21:\tlearn: 0.5075368\ttotal: 20.3ms\tremaining: 71.9ms\n",
      "22:\tlearn: 0.5018622\ttotal: 21.2ms\tremaining: 70.9ms\n",
      "23:\tlearn: 0.4966143\ttotal: 22ms\tremaining: 69.7ms\n",
      "24:\tlearn: 0.4909033\ttotal: 23.1ms\tremaining: 69.4ms\n",
      "25:\tlearn: 0.4850933\ttotal: 24.5ms\tremaining: 69.7ms\n",
      "26:\tlearn: 0.4800317\ttotal: 25.8ms\tremaining: 69.7ms\n",
      "27:\tlearn: 0.4760542\ttotal: 26.5ms\tremaining: 68.1ms\n",
      "28:\tlearn: 0.4709449\ttotal: 27.4ms\tremaining: 67ms\n",
      "29:\tlearn: 0.4658743\ttotal: 28.2ms\tremaining: 65.7ms\n",
      "30:\tlearn: 0.4613182\ttotal: 29ms\tremaining: 64.5ms\n",
      "31:\tlearn: 0.4570831\ttotal: 29.8ms\tremaining: 63.4ms\n",
      "32:\tlearn: 0.4534896\ttotal: 30.6ms\tremaining: 62.1ms\n",
      "33:\tlearn: 0.4500919\ttotal: 32.3ms\tremaining: 62.8ms\n",
      "34:\tlearn: 0.4453911\ttotal: 32.8ms\tremaining: 60.9ms\n",
      "35:\tlearn: 0.4412649\ttotal: 33.6ms\tremaining: 59.8ms\n",
      "36:\tlearn: 0.4378842\ttotal: 34.5ms\tremaining: 58.7ms\n",
      "37:\tlearn: 0.4337203\ttotal: 35.3ms\tremaining: 57.7ms\n",
      "38:\tlearn: 0.4300189\ttotal: 37.7ms\tremaining: 59ms\n",
      "39:\tlearn: 0.4260419\ttotal: 39.2ms\tremaining: 58.8ms\n",
      "40:\tlearn: 0.4223859\ttotal: 40.1ms\tremaining: 57.7ms\n",
      "41:\tlearn: 0.4184101\ttotal: 40.9ms\tremaining: 56.5ms\n",
      "42:\tlearn: 0.4145414\ttotal: 41.8ms\tremaining: 55.4ms\n",
      "43:\tlearn: 0.4108015\ttotal: 42.6ms\tremaining: 54.2ms\n",
      "44:\tlearn: 0.4076606\ttotal: 43.3ms\tremaining: 52.9ms\n",
      "45:\tlearn: 0.4047506\ttotal: 44ms\tremaining: 51.7ms\n",
      "46:\tlearn: 0.4019294\ttotal: 44.8ms\tremaining: 50.5ms\n",
      "47:\tlearn: 0.3987004\ttotal: 45.5ms\tremaining: 49.3ms\n",
      "48:\tlearn: 0.3960742\ttotal: 46.2ms\tremaining: 48.1ms\n",
      "49:\tlearn: 0.3934322\ttotal: 47ms\tremaining: 47ms\n",
      "50:\tlearn: 0.3906482\ttotal: 47.7ms\tremaining: 45.8ms\n",
      "51:\tlearn: 0.3883060\ttotal: 48.4ms\tremaining: 44.7ms\n",
      "52:\tlearn: 0.3854132\ttotal: 49.1ms\tremaining: 43.6ms\n",
      "53:\tlearn: 0.3826290\ttotal: 50.6ms\tremaining: 43.1ms\n",
      "54:\tlearn: 0.3802554\ttotal: 51.5ms\tremaining: 42.1ms\n",
      "55:\tlearn: 0.3773832\ttotal: 53.3ms\tremaining: 41.9ms\n",
      "56:\tlearn: 0.3748688\ttotal: 54.2ms\tremaining: 40.9ms\n",
      "57:\tlearn: 0.3719113\ttotal: 54.7ms\tremaining: 39.6ms\n",
      "58:\tlearn: 0.3695729\ttotal: 55.6ms\tremaining: 38.6ms\n",
      "59:\tlearn: 0.3675929\ttotal: 56.4ms\tremaining: 37.6ms\n",
      "60:\tlearn: 0.3656493\ttotal: 57.1ms\tremaining: 36.5ms\n",
      "61:\tlearn: 0.3635322\ttotal: 57.9ms\tremaining: 35.5ms\n",
      "62:\tlearn: 0.3614090\ttotal: 58.7ms\tremaining: 34.5ms\n",
      "63:\tlearn: 0.3588555\ttotal: 59.6ms\tremaining: 33.5ms\n",
      "64:\tlearn: 0.3568828\ttotal: 60.6ms\tremaining: 32.6ms\n",
      "65:\tlearn: 0.3544874\ttotal: 61.6ms\tremaining: 31.7ms\n",
      "66:\tlearn: 0.3523686\ttotal: 63.2ms\tremaining: 31.1ms\n",
      "67:\tlearn: 0.3503940\ttotal: 64.2ms\tremaining: 30.2ms\n",
      "68:\tlearn: 0.3486311\ttotal: 65.3ms\tremaining: 29.3ms\n",
      "69:\tlearn: 0.3467981\ttotal: 66.4ms\tremaining: 28.4ms\n",
      "70:\tlearn: 0.3449542\ttotal: 67.2ms\tremaining: 27.5ms\n",
      "71:\tlearn: 0.3428665\ttotal: 68.1ms\tremaining: 26.5ms\n",
      "72:\tlearn: 0.3411425\ttotal: 69.5ms\tremaining: 25.7ms\n",
      "73:\tlearn: 0.3391488\ttotal: 70.5ms\tremaining: 24.8ms\n",
      "74:\tlearn: 0.3367147\ttotal: 71.7ms\tremaining: 23.9ms\n",
      "75:\tlearn: 0.3351116\ttotal: 73.7ms\tremaining: 23.3ms\n",
      "76:\tlearn: 0.3331587\ttotal: 74.8ms\tremaining: 22.4ms\n",
      "77:\tlearn: 0.3312505\ttotal: 75.6ms\tremaining: 21.3ms\n",
      "78:\tlearn: 0.3297378\ttotal: 76.3ms\tremaining: 20.3ms\n",
      "79:\tlearn: 0.3278986\ttotal: 77.2ms\tremaining: 19.3ms\n",
      "80:\tlearn: 0.3262464\ttotal: 78ms\tremaining: 18.3ms\n",
      "81:\tlearn: 0.3241845\ttotal: 78.8ms\tremaining: 17.3ms\n",
      "82:\tlearn: 0.3223295\ttotal: 79.7ms\tremaining: 16.3ms\n",
      "83:\tlearn: 0.3204819\ttotal: 81.4ms\tremaining: 15.5ms\n",
      "84:\tlearn: 0.3186853\ttotal: 82.2ms\tremaining: 14.5ms\n",
      "85:\tlearn: 0.3166727\ttotal: 82.9ms\tremaining: 13.5ms\n",
      "86:\tlearn: 0.3152862\ttotal: 83.6ms\tremaining: 12.5ms\n",
      "87:\tlearn: 0.3136317\ttotal: 84.3ms\tremaining: 11.5ms\n",
      "88:\tlearn: 0.3123114\ttotal: 85.2ms\tremaining: 10.5ms\n",
      "89:\tlearn: 0.3111481\ttotal: 86ms\tremaining: 9.55ms\n",
      "90:\tlearn: 0.3089279\ttotal: 87ms\tremaining: 8.61ms\n",
      "91:\tlearn: 0.3073945\ttotal: 88.4ms\tremaining: 7.68ms\n",
      "92:\tlearn: 0.3063174\ttotal: 89.2ms\tremaining: 6.71ms\n",
      "93:\tlearn: 0.3047970\ttotal: 89.9ms\tremaining: 5.74ms\n",
      "94:\tlearn: 0.3030295\ttotal: 90.6ms\tremaining: 4.77ms\n",
      "95:\tlearn: 0.3017720\ttotal: 91.3ms\tremaining: 3.8ms\n",
      "96:\tlearn: 0.2999158\ttotal: 91.9ms\tremaining: 2.84ms\n",
      "97:\tlearn: 0.2993076\ttotal: 92.5ms\tremaining: 1.89ms\n",
      "98:\tlearn: 0.2976850\ttotal: 93.2ms\tremaining: 940us\n",
      "99:\tlearn: 0.2961219\ttotal: 93.9ms\tremaining: 0us\n"
     ]
    },
    {
     "data": {
      "text/plain": [
       "<catboost.core.CatBoostClassifier at 0x1d4900dbca0>"
      ]
     },
     "execution_count": 21,
     "metadata": {},
     "output_type": "execute_result"
    }
   ],
   "source": [
    "decision_tree  =    DecisionTreeClassifier(max_depth=4, random_state=15)\n",
    "random_forest  =    RandomForestClassifier(n_estimators=100, random_state=15)\n",
    "logistic       =    LogisticRegression(random_state=15)\n",
    "extra_trees    =    ExtraTreesClassifier(n_estimators=100, random_state=15)\n",
    "ada_boost      =    AdaBoostClassifier(n_estimators=100, random_state=15)\n",
    "skl_GBM        =    GradientBoostingClassifier(n_estimators=100, random_state=15)\n",
    "xG_Boost       =    XGBClassifier(n_estimators=100, random_state=15)\n",
    "lightGBM       =    LGBMClassifier(n_estimators=100, random_state=15)\n",
    "catBoost       =    CatBoostClassifier(n_estimators=100, random_state=15)\n",
    "\n",
    "decision_tree.fit(X_train, y_train)\n",
    "random_forest.fit(X_train, y_train)\n",
    "logistic.fit(X_train, y_train)\n",
    "extra_trees.fit(X_train, y_train)\n",
    "ada_boost.fit(X_train, y_train)\n",
    "skl_GBM.fit(X_train, y_train)\n",
    "xG_Boost.fit(X_train, y_train)\n",
    "lightGBM.fit(X_train, y_train)\n",
    "catBoost.fit(X_train, y_train)\n"
   ]
  },
  {
   "cell_type": "code",
   "execution_count": 22,
   "metadata": {},
   "outputs": [
    {
     "name": "stdout",
     "output_type": "stream",
     "text": [
      "DECISION TREE         : Train 87.67 :     Test : 75.0\n",
      "RANDOM FOREST         : Train 100.0 :     Test : 81.58\n",
      "LOGISTIC REGRESSION   : Train 85.46 :     Test : 88.16\n",
      "EXTRA TREES           : Train 100.0 :  Test : 80.26\n",
      "ADA BOOST             : Train 97.36 :    Test : 75.0\n",
      "SKL GBM               : Train 99.56 :      Test : 81.58\n",
      "XG BOOST              : Train 100.0 :     Test : 76.32\n",
      "LIGHT GBM             : Train 100.0 :     Test : 78.95\n",
      "CAT BOOST             : Train 92.95 :     Test : 84.21\n"
     ]
    }
   ],
   "source": [
    "print(f'DECISION TREE         : Train {round(decision_tree.score(X_train, y_train) * 100, 2)} :     Test : {round(decision_tree.score(X_test, y_test) * 100, 2)}')\n",
    "print(f'RANDOM FOREST         : Train {round(random_forest.score(X_train, y_train) * 100, 2)} :     Test : {round(random_forest.score(X_test, y_test) * 100, 2)}')\n",
    "print(f'LOGISTIC REGRESSION   : Train {round(logistic.score(X_train, y_train) * 100, 2)} :     Test : {round(logistic.score(X_test, y_test) * 100, 2)}')\n",
    "print(f'EXTRA TREES           : Train {round(extra_trees.score(X_train, y_train) * 100, 2)} :  Test : {round(extra_trees.score(X_test, y_test) * 100, 2)}')\n",
    "print(f'ADA BOOST             : Train {round(ada_boost.score(X_train, y_train) * 100, 2)} :    Test : {round(ada_boost.score(X_test, y_test) * 100, 2)}')\n",
    "print(f'SKL GBM               : Train {round(skl_GBM.score(X_train, y_train) * 100, 2)} :      Test : {round(skl_GBM.score(X_test, y_test) * 100, 2)}')\n",
    "print(f'XG BOOST              : Train {round(xG_Boost.score(X_train, y_train) * 100, 2)} :     Test : {round(xG_Boost.score(X_test, y_test) * 100, 2)}')\n",
    "print(f'LIGHT GBM             : Train {round(lightGBM.score(X_train, y_train) * 100, 2)} :     Test : {round(lightGBM.score(X_test, y_test) * 100, 2)}')\n",
    "print(f'CAT BOOST             : Train {round(catBoost.score(X_train, y_train) * 100, 2)} :     Test : {round(catBoost.score(X_test, y_test) * 100, 2)}')"
   ]
  },
  {
   "cell_type": "code",
   "execution_count": null,
   "metadata": {},
   "outputs": [],
   "source": []
  }
 ],
 "metadata": {
  "interpreter": {
   "hash": "97b91b6d5003af60c654b6abfe8ac1e5d274e52e67a717d7df64331168b10d1c"
  },
  "kernelspec": {
   "display_name": "Python 3.8.12 ('pz')",
   "language": "python",
   "name": "python3"
  },
  "language_info": {
   "codemirror_mode": {
    "name": "ipython",
    "version": 3
   },
   "file_extension": ".py",
   "mimetype": "text/x-python",
   "name": "python",
   "nbconvert_exporter": "python",
   "pygments_lexer": "ipython3",
   "version": "3.8.12"
  },
  "orig_nbformat": 4
 },
 "nbformat": 4,
 "nbformat_minor": 2
}
